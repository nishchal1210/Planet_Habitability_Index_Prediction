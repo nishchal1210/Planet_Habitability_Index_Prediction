{
 "cells": [
  {
   "cell_type": "code",
   "execution_count": 5,
   "id": "752cad39",
   "metadata": {},
   "outputs": [
    {
     "name": "stdout",
     "output_type": "stream",
     "text": [
      "Testing accuracy Accuracy: 0.9830357142857142\n"
     ]
    }
   ],
   "source": [
    "import pandas as pd\n",
    "import numpy as np\n",
    "import xgboost as xgb\n",
    "from sklearn.model_selection import train_test_split\n",
    "from sklearn.metrics import accuracy_score\n",
    "from sklearn.preprocessing import MinMaxScaler  \n",
    "dt=pd.read_csv('processed_dataset.csv')\n",
    "dt['ESI'] = dt['ESI'].apply(np.abs)\n",
    "\n",
    "# Initialize a scaler to scale values to [0, 100]\n",
    "scaler = MinMaxScaler(feature_range=(0, 100))\n",
    "dt['ESI'] = scaler.fit_transform(dt['ESI'].values.reshape(-1, 1))\n",
    "x=dt[['ESI','Atmospheric_Retention','Long_Term_Stability']]\n",
    "y=dt['P_HABITABLE']\n",
    "x_train, x_test, y_train, y_test = train_test_split(x, y, test_size=0.2, random_state=42)\n",
    "class_counts = y_train.value_counts().to_dict()\n",
    "max_count = max(class_counts.values())\n",
    "weight_dict = {cls: max_count / count for cls, count in class_counts.items()}\n",
    "\n",
    "# Map each training instance to its corresponding weight\n",
    "sample_weights = y_train.map(weight_dict)\n",
    "clf = xgb.XGBClassifier(\n",
    "    objective='multi:softmax',\n",
    "    num_class=3,\n",
    "    n_estimators=500,         # Increase number of trees\n",
    "    max_depth=7,              # Allow deeper splits\n",
    "    learning_rate=0.03,       # Lower learning rate for stability\n",
    "    min_child_weight=5,       # Increase to avoid overfitting on minority class noise\n",
    "    subsample=0.85,           # Use 85% of data per tree to improve generalization\n",
    "    colsample_bytree=0.85,    # Use 85% of features per tree\n",
    "    gamma=2,                  # Require a higher loss reduction for splitting\n",
    "    reg_lambda=2,             # Increase L2 regularization\n",
    "    reg_alpha=1,              # Increase L1 regularization\n",
    "    random_state=42,\n",
    "    tree_method='hist',       # Fast histogram-based algorithm\n",
    "    verbosity=1\n",
    ")\n",
    "clf.fit(x_train, y_train, sample_weight=sample_weights)\n",
    "\n",
    "# Evaluate on training data\n",
    "y_pred = clf.predict(x_test)\n",
    "print(\"Testing accuracy Accuracy:\", accuracy_score(y_test, y_pred))  \n",
    "import pickle\n",
    "filename = 'model.pkl'  # Choose a filename\n",
    "with open(filename, 'wb') as file:\n",
    "    pickle.dump(clf, file)"
   ]
  }
 ],
 "metadata": {
  "kernelspec": {
   "display_name": "Python 3 (ipykernel)",
   "language": "python",
   "name": "python3"
  },
  "language_info": {
   "codemirror_mode": {
    "name": "ipython",
    "version": 3
   },
   "file_extension": ".py",
   "mimetype": "text/x-python",
   "name": "python",
   "nbconvert_exporter": "python",
   "pygments_lexer": "ipython3",
   "version": "3.11.5"
  }
 },
 "nbformat": 4,
 "nbformat_minor": 5
}
